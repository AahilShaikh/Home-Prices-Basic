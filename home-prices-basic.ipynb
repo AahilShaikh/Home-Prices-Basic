{
 "cells": [
  {
   "cell_type": "code",
   "execution_count": 1,
   "id": "b84ce1cd",
   "metadata": {
    "_cell_guid": "b1076dfc-b9ad-4769-8c92-a6c4dae69d19",
    "_uuid": "8f2839f25d086af736a60e9eeb907d3b93b6e0e5",
    "execution": {
     "iopub.execute_input": "2022-01-08T00:47:34.974810Z",
     "iopub.status.busy": "2022-01-08T00:47:34.974050Z",
     "iopub.status.idle": "2022-01-08T00:47:34.985000Z",
     "shell.execute_reply": "2022-01-08T00:47:34.984207Z",
     "shell.execute_reply.started": "2022-01-08T00:36:14.802148Z"
    },
    "papermill": {
     "duration": 0.040138,
     "end_time": "2022-01-08T00:47:34.985199",
     "exception": false,
     "start_time": "2022-01-08T00:47:34.945061",
     "status": "completed"
    },
    "tags": []
   },
   "outputs": [
    {
     "name": "stdout",
     "output_type": "stream",
     "text": [
      "/kaggle/input/home-data-for-ml-course/sample_submission.csv\n",
      "/kaggle/input/home-data-for-ml-course/sample_submission.csv.gz\n",
      "/kaggle/input/home-data-for-ml-course/train.csv.gz\n",
      "/kaggle/input/home-data-for-ml-course/data_description.txt\n",
      "/kaggle/input/home-data-for-ml-course/test.csv.gz\n",
      "/kaggle/input/home-data-for-ml-course/train.csv\n",
      "/kaggle/input/home-data-for-ml-course/test.csv\n"
     ]
    }
   ],
   "source": [
    "# This Python 3 environment comes with many helpful analytics libraries installed\n",
    "# It is defined by the kaggle/python Docker image: https://github.com/kaggle/docker-python\n",
    "# For example, here's several helpful packages to load\n",
    "\n",
    "import numpy as np # linear algebra\n",
    "import pandas as pd # data processing, CSV file I/O (e.g. pd.read_csv)\n",
    "# Input data files are available in the read-only \"../input/\" directory\n",
    "# For example, running this (by clicking run or pressing Shift+Enter) will list all files under the input directory\n",
    "\n",
    "import os\n",
    "for dirname, _, filenames in os.walk('/kaggle/input'):\n",
    "    for filename in filenames:\n",
    "        print(os.path.join(dirname, filename))\n",
    "\n",
    "# You can write up to 20GB to the current directory (/kaggle/working/) that gets preserved as output when you create a version using \"Save & Run All\" \n",
    "# You can also write temporary files to /kaggle/temp/, but they won't be saved outside of the current session"
   ]
  },
  {
   "cell_type": "markdown",
   "id": "dfc4fe01",
   "metadata": {
    "papermill": {
     "duration": 0.016486,
     "end_time": "2022-01-08T00:47:35.019598",
     "exception": false,
     "start_time": "2022-01-08T00:47:35.003112",
     "status": "completed"
    },
    "tags": []
   },
   "source": [
    "# Setting up Project\n",
    "Set inputs and outputs"
   ]
  },
  {
   "cell_type": "code",
   "execution_count": 2,
   "id": "ed4f043e",
   "metadata": {
    "execution": {
     "iopub.execute_input": "2022-01-08T00:47:35.059832Z",
     "iopub.status.busy": "2022-01-08T00:47:35.058969Z",
     "iopub.status.idle": "2022-01-08T00:47:36.466998Z",
     "shell.execute_reply": "2022-01-08T00:47:36.466317Z",
     "shell.execute_reply.started": "2021-12-29T19:33:16.312788Z"
    },
    "papermill": {
     "duration": 1.430329,
     "end_time": "2022-01-08T00:47:36.467161",
     "exception": false,
     "start_time": "2022-01-08T00:47:35.036832",
     "status": "completed"
    },
    "tags": []
   },
   "outputs": [],
   "source": [
    "# Import helpful libraries\n",
    "import pandas as pd\n",
    "from xgboost import XGBRegressor\n",
    "#from sklearn.ensemble import RandomForestRegressor\n",
    "from sklearn.metrics import mean_absolute_error\n",
    "from sklearn.model_selection import train_test_split\n",
    "\n",
    "# Load the data, and separate the target\n",
    "iowa_file_path = \"/kaggle/input/home-data-for-ml-course/train.csv\"\n",
    "home_data = pd.read_csv(iowa_file_path)"
   ]
  },
  {
   "cell_type": "code",
   "execution_count": 3,
   "id": "c579eed7",
   "metadata": {
    "execution": {
     "iopub.execute_input": "2022-01-08T00:47:36.513247Z",
     "iopub.status.busy": "2022-01-08T00:47:36.512482Z",
     "iopub.status.idle": "2022-01-08T00:47:36.549273Z",
     "shell.execute_reply": "2022-01-08T00:47:36.548597Z",
     "shell.execute_reply.started": "2021-12-29T19:33:17.588553Z"
    },
    "papermill": {
     "duration": 0.063832,
     "end_time": "2022-01-08T00:47:36.549455",
     "exception": false,
     "start_time": "2022-01-08T00:47:36.485623",
     "status": "completed"
    },
    "tags": []
   },
   "outputs": [],
   "source": [
    "y = home_data.SalePrice\n",
    "\n",
    "# Select columns corresponding to features, and preview the data\n",
    "X = home_data\n",
    "X.drop(['SalePrice'], axis=1, inplace=True)\n",
    "X.head()\n",
    "\n",
    "# Split into validation and training data\n",
    "X_train, X_valid, y_train, y_valid = train_test_split(X, y, random_state=1)\n",
    "\n",
    "# Select categorical columns with relatively low cardinality (convenient but arbitrary)\n",
    "categorical_cols = [cname for cname in X_train.columns if\n",
    "                    X_train[cname].nunique() < 10 and \n",
    "                    X_train[cname].dtype == \"object\"]\n",
    "\n",
    "numerical_cols = [cname for cname in X_train.columns if X_train[cname].dtype in ['int64', 'float64']]"
   ]
  },
  {
   "cell_type": "code",
   "execution_count": 4,
   "id": "891c7c93",
   "metadata": {
    "execution": {
     "iopub.execute_input": "2022-01-08T00:47:36.595647Z",
     "iopub.status.busy": "2022-01-08T00:47:36.592855Z",
     "iopub.status.idle": "2022-01-08T00:47:36.629330Z",
     "shell.execute_reply": "2022-01-08T00:47:36.628810Z",
     "shell.execute_reply.started": "2021-12-29T19:33:19.040278Z"
    },
    "papermill": {
     "duration": 0.062939,
     "end_time": "2022-01-08T00:47:36.629505",
     "exception": false,
     "start_time": "2022-01-08T00:47:36.566566",
     "status": "completed"
    },
    "tags": []
   },
   "outputs": [
    {
     "data": {
      "text/html": [
       "<div>\n",
       "<style scoped>\n",
       "    .dataframe tbody tr th:only-of-type {\n",
       "        vertical-align: middle;\n",
       "    }\n",
       "\n",
       "    .dataframe tbody tr th {\n",
       "        vertical-align: top;\n",
       "    }\n",
       "\n",
       "    .dataframe thead th {\n",
       "        text-align: right;\n",
       "    }\n",
       "</style>\n",
       "<table border=\"1\" class=\"dataframe\">\n",
       "  <thead>\n",
       "    <tr style=\"text-align: right;\">\n",
       "      <th></th>\n",
       "      <th>Id</th>\n",
       "      <th>MSSubClass</th>\n",
       "      <th>MSZoning</th>\n",
       "      <th>LotFrontage</th>\n",
       "      <th>LotArea</th>\n",
       "      <th>Street</th>\n",
       "      <th>Alley</th>\n",
       "      <th>LotShape</th>\n",
       "      <th>LandContour</th>\n",
       "      <th>Utilities</th>\n",
       "      <th>...</th>\n",
       "      <th>ScreenPorch</th>\n",
       "      <th>PoolArea</th>\n",
       "      <th>PoolQC</th>\n",
       "      <th>Fence</th>\n",
       "      <th>MiscFeature</th>\n",
       "      <th>MiscVal</th>\n",
       "      <th>MoSold</th>\n",
       "      <th>YrSold</th>\n",
       "      <th>SaleType</th>\n",
       "      <th>SaleCondition</th>\n",
       "    </tr>\n",
       "  </thead>\n",
       "  <tbody>\n",
       "    <tr>\n",
       "      <th>0</th>\n",
       "      <td>1</td>\n",
       "      <td>60</td>\n",
       "      <td>RL</td>\n",
       "      <td>65.0</td>\n",
       "      <td>8450</td>\n",
       "      <td>Pave</td>\n",
       "      <td>NaN</td>\n",
       "      <td>Reg</td>\n",
       "      <td>Lvl</td>\n",
       "      <td>AllPub</td>\n",
       "      <td>...</td>\n",
       "      <td>0</td>\n",
       "      <td>0</td>\n",
       "      <td>NaN</td>\n",
       "      <td>NaN</td>\n",
       "      <td>NaN</td>\n",
       "      <td>0</td>\n",
       "      <td>2</td>\n",
       "      <td>2008</td>\n",
       "      <td>WD</td>\n",
       "      <td>Normal</td>\n",
       "    </tr>\n",
       "    <tr>\n",
       "      <th>1</th>\n",
       "      <td>2</td>\n",
       "      <td>20</td>\n",
       "      <td>RL</td>\n",
       "      <td>80.0</td>\n",
       "      <td>9600</td>\n",
       "      <td>Pave</td>\n",
       "      <td>NaN</td>\n",
       "      <td>Reg</td>\n",
       "      <td>Lvl</td>\n",
       "      <td>AllPub</td>\n",
       "      <td>...</td>\n",
       "      <td>0</td>\n",
       "      <td>0</td>\n",
       "      <td>NaN</td>\n",
       "      <td>NaN</td>\n",
       "      <td>NaN</td>\n",
       "      <td>0</td>\n",
       "      <td>5</td>\n",
       "      <td>2007</td>\n",
       "      <td>WD</td>\n",
       "      <td>Normal</td>\n",
       "    </tr>\n",
       "    <tr>\n",
       "      <th>2</th>\n",
       "      <td>3</td>\n",
       "      <td>60</td>\n",
       "      <td>RL</td>\n",
       "      <td>68.0</td>\n",
       "      <td>11250</td>\n",
       "      <td>Pave</td>\n",
       "      <td>NaN</td>\n",
       "      <td>IR1</td>\n",
       "      <td>Lvl</td>\n",
       "      <td>AllPub</td>\n",
       "      <td>...</td>\n",
       "      <td>0</td>\n",
       "      <td>0</td>\n",
       "      <td>NaN</td>\n",
       "      <td>NaN</td>\n",
       "      <td>NaN</td>\n",
       "      <td>0</td>\n",
       "      <td>9</td>\n",
       "      <td>2008</td>\n",
       "      <td>WD</td>\n",
       "      <td>Normal</td>\n",
       "    </tr>\n",
       "    <tr>\n",
       "      <th>3</th>\n",
       "      <td>4</td>\n",
       "      <td>70</td>\n",
       "      <td>RL</td>\n",
       "      <td>60.0</td>\n",
       "      <td>9550</td>\n",
       "      <td>Pave</td>\n",
       "      <td>NaN</td>\n",
       "      <td>IR1</td>\n",
       "      <td>Lvl</td>\n",
       "      <td>AllPub</td>\n",
       "      <td>...</td>\n",
       "      <td>0</td>\n",
       "      <td>0</td>\n",
       "      <td>NaN</td>\n",
       "      <td>NaN</td>\n",
       "      <td>NaN</td>\n",
       "      <td>0</td>\n",
       "      <td>2</td>\n",
       "      <td>2006</td>\n",
       "      <td>WD</td>\n",
       "      <td>Abnorml</td>\n",
       "    </tr>\n",
       "    <tr>\n",
       "      <th>4</th>\n",
       "      <td>5</td>\n",
       "      <td>60</td>\n",
       "      <td>RL</td>\n",
       "      <td>84.0</td>\n",
       "      <td>14260</td>\n",
       "      <td>Pave</td>\n",
       "      <td>NaN</td>\n",
       "      <td>IR1</td>\n",
       "      <td>Lvl</td>\n",
       "      <td>AllPub</td>\n",
       "      <td>...</td>\n",
       "      <td>0</td>\n",
       "      <td>0</td>\n",
       "      <td>NaN</td>\n",
       "      <td>NaN</td>\n",
       "      <td>NaN</td>\n",
       "      <td>0</td>\n",
       "      <td>12</td>\n",
       "      <td>2008</td>\n",
       "      <td>WD</td>\n",
       "      <td>Normal</td>\n",
       "    </tr>\n",
       "    <tr>\n",
       "      <th>...</th>\n",
       "      <td>...</td>\n",
       "      <td>...</td>\n",
       "      <td>...</td>\n",
       "      <td>...</td>\n",
       "      <td>...</td>\n",
       "      <td>...</td>\n",
       "      <td>...</td>\n",
       "      <td>...</td>\n",
       "      <td>...</td>\n",
       "      <td>...</td>\n",
       "      <td>...</td>\n",
       "      <td>...</td>\n",
       "      <td>...</td>\n",
       "      <td>...</td>\n",
       "      <td>...</td>\n",
       "      <td>...</td>\n",
       "      <td>...</td>\n",
       "      <td>...</td>\n",
       "      <td>...</td>\n",
       "      <td>...</td>\n",
       "      <td>...</td>\n",
       "    </tr>\n",
       "    <tr>\n",
       "      <th>1455</th>\n",
       "      <td>1456</td>\n",
       "      <td>60</td>\n",
       "      <td>RL</td>\n",
       "      <td>62.0</td>\n",
       "      <td>7917</td>\n",
       "      <td>Pave</td>\n",
       "      <td>NaN</td>\n",
       "      <td>Reg</td>\n",
       "      <td>Lvl</td>\n",
       "      <td>AllPub</td>\n",
       "      <td>...</td>\n",
       "      <td>0</td>\n",
       "      <td>0</td>\n",
       "      <td>NaN</td>\n",
       "      <td>NaN</td>\n",
       "      <td>NaN</td>\n",
       "      <td>0</td>\n",
       "      <td>8</td>\n",
       "      <td>2007</td>\n",
       "      <td>WD</td>\n",
       "      <td>Normal</td>\n",
       "    </tr>\n",
       "    <tr>\n",
       "      <th>1456</th>\n",
       "      <td>1457</td>\n",
       "      <td>20</td>\n",
       "      <td>RL</td>\n",
       "      <td>85.0</td>\n",
       "      <td>13175</td>\n",
       "      <td>Pave</td>\n",
       "      <td>NaN</td>\n",
       "      <td>Reg</td>\n",
       "      <td>Lvl</td>\n",
       "      <td>AllPub</td>\n",
       "      <td>...</td>\n",
       "      <td>0</td>\n",
       "      <td>0</td>\n",
       "      <td>NaN</td>\n",
       "      <td>MnPrv</td>\n",
       "      <td>NaN</td>\n",
       "      <td>0</td>\n",
       "      <td>2</td>\n",
       "      <td>2010</td>\n",
       "      <td>WD</td>\n",
       "      <td>Normal</td>\n",
       "    </tr>\n",
       "    <tr>\n",
       "      <th>1457</th>\n",
       "      <td>1458</td>\n",
       "      <td>70</td>\n",
       "      <td>RL</td>\n",
       "      <td>66.0</td>\n",
       "      <td>9042</td>\n",
       "      <td>Pave</td>\n",
       "      <td>NaN</td>\n",
       "      <td>Reg</td>\n",
       "      <td>Lvl</td>\n",
       "      <td>AllPub</td>\n",
       "      <td>...</td>\n",
       "      <td>0</td>\n",
       "      <td>0</td>\n",
       "      <td>NaN</td>\n",
       "      <td>GdPrv</td>\n",
       "      <td>Shed</td>\n",
       "      <td>2500</td>\n",
       "      <td>5</td>\n",
       "      <td>2010</td>\n",
       "      <td>WD</td>\n",
       "      <td>Normal</td>\n",
       "    </tr>\n",
       "    <tr>\n",
       "      <th>1458</th>\n",
       "      <td>1459</td>\n",
       "      <td>20</td>\n",
       "      <td>RL</td>\n",
       "      <td>68.0</td>\n",
       "      <td>9717</td>\n",
       "      <td>Pave</td>\n",
       "      <td>NaN</td>\n",
       "      <td>Reg</td>\n",
       "      <td>Lvl</td>\n",
       "      <td>AllPub</td>\n",
       "      <td>...</td>\n",
       "      <td>0</td>\n",
       "      <td>0</td>\n",
       "      <td>NaN</td>\n",
       "      <td>NaN</td>\n",
       "      <td>NaN</td>\n",
       "      <td>0</td>\n",
       "      <td>4</td>\n",
       "      <td>2010</td>\n",
       "      <td>WD</td>\n",
       "      <td>Normal</td>\n",
       "    </tr>\n",
       "    <tr>\n",
       "      <th>1459</th>\n",
       "      <td>1460</td>\n",
       "      <td>20</td>\n",
       "      <td>RL</td>\n",
       "      <td>75.0</td>\n",
       "      <td>9937</td>\n",
       "      <td>Pave</td>\n",
       "      <td>NaN</td>\n",
       "      <td>Reg</td>\n",
       "      <td>Lvl</td>\n",
       "      <td>AllPub</td>\n",
       "      <td>...</td>\n",
       "      <td>0</td>\n",
       "      <td>0</td>\n",
       "      <td>NaN</td>\n",
       "      <td>NaN</td>\n",
       "      <td>NaN</td>\n",
       "      <td>0</td>\n",
       "      <td>6</td>\n",
       "      <td>2008</td>\n",
       "      <td>WD</td>\n",
       "      <td>Normal</td>\n",
       "    </tr>\n",
       "  </tbody>\n",
       "</table>\n",
       "<p>1460 rows × 80 columns</p>\n",
       "</div>"
      ],
      "text/plain": [
       "        Id  MSSubClass MSZoning  LotFrontage  LotArea Street Alley LotShape  \\\n",
       "0        1          60       RL         65.0     8450   Pave   NaN      Reg   \n",
       "1        2          20       RL         80.0     9600   Pave   NaN      Reg   \n",
       "2        3          60       RL         68.0    11250   Pave   NaN      IR1   \n",
       "3        4          70       RL         60.0     9550   Pave   NaN      IR1   \n",
       "4        5          60       RL         84.0    14260   Pave   NaN      IR1   \n",
       "...    ...         ...      ...          ...      ...    ...   ...      ...   \n",
       "1455  1456          60       RL         62.0     7917   Pave   NaN      Reg   \n",
       "1456  1457          20       RL         85.0    13175   Pave   NaN      Reg   \n",
       "1457  1458          70       RL         66.0     9042   Pave   NaN      Reg   \n",
       "1458  1459          20       RL         68.0     9717   Pave   NaN      Reg   \n",
       "1459  1460          20       RL         75.0     9937   Pave   NaN      Reg   \n",
       "\n",
       "     LandContour Utilities  ... ScreenPorch PoolArea PoolQC  Fence  \\\n",
       "0            Lvl    AllPub  ...           0        0    NaN    NaN   \n",
       "1            Lvl    AllPub  ...           0        0    NaN    NaN   \n",
       "2            Lvl    AllPub  ...           0        0    NaN    NaN   \n",
       "3            Lvl    AllPub  ...           0        0    NaN    NaN   \n",
       "4            Lvl    AllPub  ...           0        0    NaN    NaN   \n",
       "...          ...       ...  ...         ...      ...    ...    ...   \n",
       "1455         Lvl    AllPub  ...           0        0    NaN    NaN   \n",
       "1456         Lvl    AllPub  ...           0        0    NaN  MnPrv   \n",
       "1457         Lvl    AllPub  ...           0        0    NaN  GdPrv   \n",
       "1458         Lvl    AllPub  ...           0        0    NaN    NaN   \n",
       "1459         Lvl    AllPub  ...           0        0    NaN    NaN   \n",
       "\n",
       "     MiscFeature MiscVal MoSold  YrSold  SaleType  SaleCondition  \n",
       "0            NaN       0      2    2008        WD         Normal  \n",
       "1            NaN       0      5    2007        WD         Normal  \n",
       "2            NaN       0      9    2008        WD         Normal  \n",
       "3            NaN       0      2    2006        WD        Abnorml  \n",
       "4            NaN       0     12    2008        WD         Normal  \n",
       "...          ...     ...    ...     ...       ...            ...  \n",
       "1455         NaN       0      8    2007        WD         Normal  \n",
       "1456         NaN       0      2    2010        WD         Normal  \n",
       "1457        Shed    2500      5    2010        WD         Normal  \n",
       "1458         NaN       0      4    2010        WD         Normal  \n",
       "1459         NaN       0      6    2008        WD         Normal  \n",
       "\n",
       "[1460 rows x 80 columns]"
      ]
     },
     "execution_count": 4,
     "metadata": {},
     "output_type": "execute_result"
    }
   ],
   "source": [
    "X"
   ]
  },
  {
   "cell_type": "markdown",
   "id": "7423a488",
   "metadata": {
    "papermill": {
     "duration": 0.017082,
     "end_time": "2022-01-08T00:47:36.663920",
     "exception": false,
     "start_time": "2022-01-08T00:47:36.646838",
     "status": "completed"
    },
    "tags": []
   },
   "source": [
    "# Cleaning Up the Data\n",
    "Use a pipeline to make code simpler and easier to understand"
   ]
  },
  {
   "cell_type": "markdown",
   "id": "e0c304e2",
   "metadata": {
    "papermill": {
     "duration": 0.017072,
     "end_time": "2022-01-08T00:47:36.698463",
     "exception": false,
     "start_time": "2022-01-08T00:47:36.681391",
     "status": "completed"
    },
    "tags": []
   },
   "source": [
    "Understanding null values"
   ]
  },
  {
   "cell_type": "code",
   "execution_count": 5,
   "id": "0d4570de",
   "metadata": {
    "execution": {
     "iopub.execute_input": "2022-01-08T00:47:36.745226Z",
     "iopub.status.busy": "2022-01-08T00:47:36.744563Z",
     "iopub.status.idle": "2022-01-08T00:47:36.754234Z",
     "shell.execute_reply": "2022-01-08T00:47:36.753691Z",
     "shell.execute_reply.started": "2021-12-29T17:49:47.385224Z"
    },
    "papermill": {
     "duration": 0.038619,
     "end_time": "2022-01-08T00:47:36.754400",
     "exception": false,
     "start_time": "2022-01-08T00:47:36.715781",
     "status": "completed"
    },
    "tags": []
   },
   "outputs": [
    {
     "data": {
      "text/plain": [
       "Id                0\n",
       "MSSubClass        0\n",
       "MSZoning          0\n",
       "LotFrontage     259\n",
       "LotArea           0\n",
       "Street            0\n",
       "Alley          1369\n",
       "LotShape          0\n",
       "LandContour       0\n",
       "Utilities         0\n",
       "dtype: int64"
      ]
     },
     "execution_count": 5,
     "metadata": {},
     "output_type": "execute_result"
    }
   ],
   "source": [
    "# get the number of missing data points per column\n",
    "missing_values_count = X.isnull().sum()\n",
    "\n",
    "# look at the # of missing points in the first ten columns\n",
    "missing_values_count[0:10]"
   ]
  },
  {
   "cell_type": "code",
   "execution_count": 6,
   "id": "0fb79964",
   "metadata": {
    "execution": {
     "iopub.execute_input": "2022-01-08T00:47:36.796997Z",
     "iopub.status.busy": "2022-01-08T00:47:36.796259Z",
     "iopub.status.idle": "2022-01-08T00:47:36.800800Z",
     "shell.execute_reply": "2022-01-08T00:47:36.800145Z",
     "shell.execute_reply.started": "2021-12-29T17:50:56.607891Z"
    },
    "papermill": {
     "duration": 0.028877,
     "end_time": "2022-01-08T00:47:36.801018",
     "exception": false,
     "start_time": "2022-01-08T00:47:36.772141",
     "status": "completed"
    },
    "tags": []
   },
   "outputs": [
    {
     "name": "stdout",
     "output_type": "stream",
     "text": [
      "5.9631849315068495\n"
     ]
    }
   ],
   "source": [
    "total_cells = np.product(X.shape)\n",
    "total_missing = missing_values_count.sum()\n",
    "\n",
    "# percent of data that is missing\n",
    "percent_missing = (total_missing/total_cells) * 100\n",
    "print(percent_missing)"
   ]
  },
  {
   "cell_type": "code",
   "execution_count": 7,
   "id": "7d27f610",
   "metadata": {
    "execution": {
     "iopub.execute_input": "2022-01-08T00:47:36.847019Z",
     "iopub.status.busy": "2022-01-08T00:47:36.846083Z",
     "iopub.status.idle": "2022-01-08T00:47:37.024640Z",
     "shell.execute_reply": "2022-01-08T00:47:37.023369Z",
     "shell.execute_reply.started": "2021-12-29T19:38:53.599222Z"
    },
    "papermill": {
     "duration": 0.204037,
     "end_time": "2022-01-08T00:47:37.024808",
     "exception": false,
     "start_time": "2022-01-08T00:47:36.820771",
     "status": "completed"
    },
    "tags": []
   },
   "outputs": [],
   "source": [
    "from sklearn.compose import ColumnTransformer\n",
    "from sklearn.pipeline import Pipeline\n",
    "from sklearn.impute import SimpleImputer\n",
    "from sklearn.preprocessing import OneHotEncoder\n",
    "\n",
    "# Preprocessing for numerical data\n",
    "numerical_transformer = SimpleImputer(strategy='constant')\n",
    "\n",
    "# Preprocessing for categorical data\n",
    "categorical_transformer = categorical_transformer = Pipeline(steps=[\n",
    "    ('imputer', SimpleImputer(strategy='most_frequent')),\n",
    "    ('onehot', OneHotEncoder(handle_unknown='ignore'))\n",
    "])\n",
    "\n",
    "# Bundle preprocessing for numerical and categorical data\n",
    "preprocessor = ColumnTransformer(\n",
    "    transformers=[\n",
    "        ('num', numerical_transformer, numerical_cols),\n",
    "        ('cat', categorical_transformer, categorical_cols)\n",
    "    ])"
   ]
  },
  {
   "cell_type": "code",
   "execution_count": 8,
   "id": "5367ebe0",
   "metadata": {
    "execution": {
     "iopub.execute_input": "2022-01-08T00:47:37.067674Z",
     "iopub.status.busy": "2022-01-08T00:47:37.067009Z",
     "iopub.status.idle": "2022-01-08T00:47:37.070716Z",
     "shell.execute_reply": "2022-01-08T00:47:37.070020Z",
     "shell.execute_reply.started": "2021-12-29T19:36:10.113219Z"
    },
    "papermill": {
     "duration": 0.027891,
     "end_time": "2022-01-08T00:47:37.070863",
     "exception": false,
     "start_time": "2022-01-08T00:47:37.042972",
     "status": "completed"
    },
    "tags": []
   },
   "outputs": [
    {
     "name": "stdout",
     "output_type": "stream",
     "text": [
      "completed\n"
     ]
    }
   ],
   "source": [
    "xgb_model = XGBRegressor(random_state = 1)\n",
    "pipeline = Pipeline(steps=[('preprocessor', preprocessor),\n",
    "                              ('model', xgb_model)\n",
    "                             ])\n",
    "print(\"completed\")"
   ]
  },
  {
   "cell_type": "code",
   "execution_count": 9,
   "id": "3f1311e0",
   "metadata": {
    "execution": {
     "iopub.execute_input": "2022-01-08T00:47:37.114919Z",
     "iopub.status.busy": "2022-01-08T00:47:37.114177Z",
     "iopub.status.idle": "2022-01-08T00:47:37.118119Z",
     "shell.execute_reply": "2022-01-08T00:47:37.117451Z",
     "shell.execute_reply.started": "2021-12-29T19:38:58.234172Z"
    },
    "papermill": {
     "duration": 0.029072,
     "end_time": "2022-01-08T00:47:37.118261",
     "exception": false,
     "start_time": "2022-01-08T00:47:37.089189",
     "status": "completed"
    },
    "tags": []
   },
   "outputs": [
    {
     "data": {
      "text/plain": [
       "'\\nimport scipy.sparse\\ncolumns = X.columns\\n#pd.DataFrame.sparse.from_spmatrix(preprocessor.fit_transform(X),)\\npd.DataFrame(preprocessor.fit_transform(X), columns = columns)\\n'"
      ]
     },
     "execution_count": 9,
     "metadata": {},
     "output_type": "execute_result"
    }
   ],
   "source": [
    "\"\"\"\n",
    "import scipy.sparse\n",
    "columns = X.columns\n",
    "#pd.DataFrame.sparse.from_spmatrix(preprocessor.fit_transform(X),)\n",
    "pd.DataFrame(preprocessor.fit_transform(X), columns = columns)\n",
    "\"\"\""
   ]
  },
  {
   "cell_type": "markdown",
   "id": "e1ede100",
   "metadata": {
    "papermill": {
     "duration": 0.019689,
     "end_time": "2022-01-08T00:47:37.157990",
     "exception": false,
     "start_time": "2022-01-08T00:47:37.138301",
     "status": "completed"
    },
    "tags": []
   },
   "source": [
    "# Hyperparameter Tuning"
   ]
  },
  {
   "cell_type": "code",
   "execution_count": 10,
   "id": "5d0c9b59",
   "metadata": {
    "execution": {
     "iopub.execute_input": "2022-01-08T00:47:37.203710Z",
     "iopub.status.busy": "2022-01-08T00:47:37.202918Z",
     "iopub.status.idle": "2022-01-08T00:47:37.207446Z",
     "shell.execute_reply": "2022-01-08T00:47:37.206903Z",
     "shell.execute_reply.started": "2021-12-29T18:14:43.371005Z"
    },
    "papermill": {
     "duration": 0.029815,
     "end_time": "2022-01-08T00:47:37.207595",
     "exception": false,
     "start_time": "2022-01-08T00:47:37.177780",
     "status": "completed"
    },
    "tags": []
   },
   "outputs": [
    {
     "data": {
      "text/plain": [
       "'\\nparams = { \\'model__max_depth\\': [3,5, 6],\\n           \\'model__learning_rate\\': [0.05],\\n           \\'model__n_estimators\\': [750, 100]}\\n\\ngrid_search = GridSearchCV(estimator=pipeline, \\n                   param_grid=params,\\n                   scoring=\\'neg_root_mean_squared_error\\', \\n                   verbose=1)\\ngrid_search.fit(X_train, y_train)\\n\\nprint(\"Best parameters:\", grid_search.best_params_)\\nprint(\"Lowest RMSE: \", (-grid_search.best_score_))\\n\\n'"
      ]
     },
     "execution_count": 10,
     "metadata": {},
     "output_type": "execute_result"
    }
   ],
   "source": [
    "from sklearn.model_selection import GridSearchCV\n",
    "\"\"\"\n",
    "params = { 'model__max_depth': [3,5, 6],\n",
    "           'model__learning_rate': [0.05],\n",
    "           'model__n_estimators': [750, 100]}\n",
    "\n",
    "grid_search = GridSearchCV(estimator=pipeline, \n",
    "                   param_grid=params,\n",
    "                   scoring='neg_root_mean_squared_error', \n",
    "                   verbose=1)\n",
    "grid_search.fit(X_train, y_train)\n",
    "\n",
    "print(\"Best parameters:\", grid_search.best_params_)\n",
    "print(\"Lowest RMSE: \", (-grid_search.best_score_))\n",
    "\n",
    "\"\"\""
   ]
  },
  {
   "cell_type": "markdown",
   "id": "d218d6f4",
   "metadata": {
    "papermill": {
     "duration": 0.019329,
     "end_time": "2022-01-08T00:47:37.247495",
     "exception": false,
     "start_time": "2022-01-08T00:47:37.228166",
     "status": "completed"
    },
    "tags": []
   },
   "source": [
    "# Creating Final ML Model\n",
    "This will be used to check the MAE score on all the training data and will also be used for the final submission"
   ]
  },
  {
   "cell_type": "code",
   "execution_count": 11,
   "id": "07dccc98",
   "metadata": {
    "execution": {
     "iopub.execute_input": "2022-01-08T00:47:37.293768Z",
     "iopub.status.busy": "2022-01-08T00:47:37.293001Z",
     "iopub.status.idle": "2022-01-08T00:47:37.297057Z",
     "shell.execute_reply": "2022-01-08T00:47:37.296284Z",
     "shell.execute_reply.started": "2021-12-29T19:36:36.465915Z"
    },
    "papermill": {
     "duration": 0.030095,
     "end_time": "2022-01-08T00:47:37.297290",
     "exception": false,
     "start_time": "2022-01-08T00:47:37.267195",
     "status": "completed"
    },
    "tags": []
   },
   "outputs": [
    {
     "name": "stdout",
     "output_type": "stream",
     "text": [
      "completed\n"
     ]
    }
   ],
   "source": [
    "# Define a XGBoost model\n",
    "xgb_best_model = XGBRegressor(random_state=1, learning_rate = 0.05, max_depth = 3, n_estimators = 750,)\n",
    "\n",
    "print(\"completed\")"
   ]
  },
  {
   "cell_type": "code",
   "execution_count": 12,
   "id": "7ffa1a25",
   "metadata": {
    "execution": {
     "iopub.execute_input": "2022-01-08T00:47:37.352239Z",
     "iopub.status.busy": "2022-01-08T00:47:37.351409Z",
     "iopub.status.idle": "2022-01-08T00:47:42.319547Z",
     "shell.execute_reply": "2022-01-08T00:47:42.320351Z",
     "shell.execute_reply.started": "2021-12-29T19:39:01.963508Z"
    },
    "papermill": {
     "duration": 5.000907,
     "end_time": "2022-01-08T00:47:42.320611",
     "exception": false,
     "start_time": "2022-01-08T00:47:37.319704",
     "status": "completed"
    },
    "tags": []
   },
   "outputs": [
    {
     "name": "stdout",
     "output_type": "stream",
     "text": [
      "MAE: 14971.796746575343\n"
     ]
    }
   ],
   "source": [
    "# Train model on half data to see MAE\n",
    "# Bundle preprocessing and modeling code in a pipeline\n",
    "my_pipeline = Pipeline(steps=[('preprocessor', preprocessor),\n",
    "                              ('model', xgb_best_model)\n",
    "                             ])\n",
    "\n",
    "# Preprocessing of training data, fit model \n",
    "\n",
    "my_pipeline.fit(X_train, y_train)\n",
    "\n",
    "# Preprocessing of validation data, get predictions\n",
    "preds = my_pipeline.predict(X_valid)\n",
    "\n",
    "# Evaluate the model\n",
    "score = mean_absolute_error(y_valid, preds)\n",
    "print('MAE:', score)"
   ]
  },
  {
   "cell_type": "code",
   "execution_count": 13,
   "id": "ff19619e",
   "metadata": {
    "execution": {
     "iopub.execute_input": "2022-01-08T00:47:42.370809Z",
     "iopub.status.busy": "2022-01-08T00:47:42.369760Z",
     "iopub.status.idle": "2022-01-08T00:47:48.630691Z",
     "shell.execute_reply": "2022-01-08T00:47:48.629973Z",
     "shell.execute_reply.started": "2021-12-29T19:39:33.244331Z"
    },
    "papermill": {
     "duration": 6.28867,
     "end_time": "2022-01-08T00:47:48.630866",
     "exception": false,
     "start_time": "2022-01-08T00:47:42.342196",
     "status": "completed"
    },
    "tags": []
   },
   "outputs": [
    {
     "data": {
      "text/plain": [
       "Pipeline(steps=[('preprocessor',\n",
       "                 ColumnTransformer(transformers=[('num',\n",
       "                                                  SimpleImputer(strategy='constant'),\n",
       "                                                  ['Id', 'MSSubClass',\n",
       "                                                   'LotFrontage', 'LotArea',\n",
       "                                                   'OverallQual', 'OverallCond',\n",
       "                                                   'YearBuilt', 'YearRemodAdd',\n",
       "                                                   'MasVnrArea', 'BsmtFinSF1',\n",
       "                                                   'BsmtFinSF2', 'BsmtUnfSF',\n",
       "                                                   'TotalBsmtSF', '1stFlrSF',\n",
       "                                                   '2ndFlrSF', 'LowQualFinSF',\n",
       "                                                   'GrLivArea', 'BsmtFullBath',\n",
       "                                                   'BsmtHalfBath', 'F...\n",
       "                              gamma=0, gpu_id=-1, importance_type=None,\n",
       "                              interaction_constraints='', learning_rate=0.05,\n",
       "                              max_delta_step=0, max_depth=3, min_child_weight=1,\n",
       "                              missing=nan, monotone_constraints='()',\n",
       "                              n_estimators=750, n_jobs=4, num_parallel_tree=1,\n",
       "                              predictor='auto', random_state=1, reg_alpha=0,\n",
       "                              reg_lambda=1, scale_pos_weight=1, subsample=1,\n",
       "                              tree_method='exact', validate_parameters=1,\n",
       "                              verbosity=None))])"
      ]
     },
     "execution_count": 13,
     "metadata": {},
     "output_type": "execute_result"
    }
   ],
   "source": [
    "# Preprocessing of training data, fit model \n",
    "my_pipeline.fit(X, y)\n"
   ]
  },
  {
   "cell_type": "markdown",
   "id": "1f6a5da8",
   "metadata": {
    "papermill": {
     "duration": 0.020416,
     "end_time": "2022-01-08T00:47:48.672089",
     "exception": false,
     "start_time": "2022-01-08T00:47:48.651673",
     "status": "completed"
    },
    "tags": []
   },
   "source": [
    "# Submitting the code"
   ]
  },
  {
   "cell_type": "code",
   "execution_count": 14,
   "id": "d8293c80",
   "metadata": {
    "execution": {
     "iopub.execute_input": "2022-01-08T00:47:48.720848Z",
     "iopub.status.busy": "2022-01-08T00:47:48.720128Z",
     "iopub.status.idle": "2022-01-08T00:47:48.815515Z",
     "shell.execute_reply": "2022-01-08T00:47:48.816139Z",
     "shell.execute_reply.started": "2021-12-29T17:17:45.176837Z"
    },
    "papermill": {
     "duration": 0.121914,
     "end_time": "2022-01-08T00:47:48.816405",
     "exception": false,
     "start_time": "2022-01-08T00:47:48.694491",
     "status": "completed"
    },
    "tags": []
   },
   "outputs": [],
   "source": [
    "# path to file you will use for predictions\n",
    "test_data_path = '/kaggle/input/home-data-for-ml-course/test.csv'\n",
    "\n",
    "# read test data file using pandas\n",
    "test_data = pd.read_csv(test_data_path)\n",
    "\n",
    "\n",
    "# make predictions which we will submit. \n",
    "test_preds = my_pipeline.predict(test_data)"
   ]
  },
  {
   "cell_type": "code",
   "execution_count": 15,
   "id": "2a4aac6d",
   "metadata": {
    "execution": {
     "iopub.execute_input": "2022-01-08T00:47:48.866253Z",
     "iopub.status.busy": "2022-01-08T00:47:48.865556Z",
     "iopub.status.idle": "2022-01-08T00:47:48.877190Z",
     "shell.execute_reply": "2022-01-08T00:47:48.876458Z",
     "shell.execute_reply.started": "2021-12-29T17:17:47.244997Z"
    },
    "papermill": {
     "duration": 0.038406,
     "end_time": "2022-01-08T00:47:48.877397",
     "exception": false,
     "start_time": "2022-01-08T00:47:48.838991",
     "status": "completed"
    },
    "tags": []
   },
   "outputs": [],
   "source": [
    "# Run the code to save predictions in the format used for competition scoring\n",
    "\n",
    "output = pd.DataFrame({'Id': test_data.Id,\n",
    "                       'SalePrice': test_preds})\n",
    "output.to_csv('submission.csv', index=False)"
   ]
  }
 ],
 "metadata": {
  "kernelspec": {
   "display_name": "Python 3",
   "language": "python",
   "name": "python3"
  },
  "language_info": {
   "codemirror_mode": {
    "name": "ipython",
    "version": 3
   },
   "file_extension": ".py",
   "mimetype": "text/x-python",
   "name": "python",
   "nbconvert_exporter": "python",
   "pygments_lexer": "ipython3",
   "version": "3.7.12"
  },
  "papermill": {
   "default_parameters": {},
   "duration": 26.614007,
   "end_time": "2022-01-08T00:47:49.912609",
   "environment_variables": {},
   "exception": null,
   "input_path": "__notebook__.ipynb",
   "output_path": "__notebook__.ipynb",
   "parameters": {},
   "start_time": "2022-01-08T00:47:23.298602",
   "version": "2.3.3"
  }
 },
 "nbformat": 4,
 "nbformat_minor": 5
}
